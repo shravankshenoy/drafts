{
  "nbformat": 4,
  "nbformat_minor": 0,
  "metadata": {
    "colab": {
      "provenance": []
    },
    "kernelspec": {
      "name": "python3",
      "display_name": "Python 3"
    },
    "language_info": {
      "name": "python"
    }
  },
  "cells": [
    {
      "cell_type": "code",
      "execution_count": 2,
      "metadata": {
        "id": "HoI_Le4S9Tx7"
      },
      "outputs": [],
      "source": [
        "import shutil\n",
        "import urllib.request as request\n",
        "from contextlib import closing\n",
        "\n",
        "# first we download the Sift1M dataset\n",
        "with closing(request.urlopen('ftp://ftp.irisa.fr/local/texmex/corpus/sift.tar.gz')) as r:\n",
        "    with open('sift.tar.gz', 'wb') as f:\n",
        "        shutil.copyfileobj(r, f)"
      ]
    },
    {
      "cell_type": "code",
      "source": [
        "!pip install faiss-cpu"
      ],
      "metadata": {
        "colab": {
          "base_uri": "https://localhost:8080/"
        },
        "id": "-8AS9rM6-JM3",
        "outputId": "ed02c2e5-c675-4e29-dc5d-e27eadfccc09"
      },
      "execution_count": 3,
      "outputs": [
        {
          "output_type": "stream",
          "name": "stdout",
          "text": [
            "Collecting faiss-cpu\n",
            "  Downloading faiss_cpu-1.8.0-cp310-cp310-manylinux_2_17_x86_64.manylinux2014_x86_64.whl (27.0 MB)\n",
            "\u001b[2K     \u001b[90m━━━━━━━━━━━━━━━━━━━━━━━━━━━━━━━━━━━━━━━━\u001b[0m \u001b[32m27.0/27.0 MB\u001b[0m \u001b[31m6.8 MB/s\u001b[0m eta \u001b[36m0:00:00\u001b[0m\n",
            "\u001b[?25hRequirement already satisfied: numpy in /usr/local/lib/python3.10/dist-packages (from faiss-cpu) (1.25.2)\n",
            "Installing collected packages: faiss-cpu\n",
            "Successfully installed faiss-cpu-1.8.0\n"
          ]
        }
      ]
    },
    {
      "cell_type": "code",
      "source": [
        "import tarfile\n",
        "\n",
        "# the download leaves us with a tar.gz file, we unzip it\n",
        "tar = tarfile.open('sift.tar.gz', \"r:gz\")\n",
        "tar.extractall()"
      ],
      "metadata": {
        "id": "JiO3kHeN9eVG"
      },
      "execution_count": 4,
      "outputs": []
    },
    {
      "cell_type": "code",
      "source": [
        "import numpy as np\n",
        "\n",
        "# now define a function to read the fvecs file format of Sift1M dataset\n",
        "def read_fvecs(fp):\n",
        "    a = np.fromfile(fp, dtype='int32')\n",
        "    d = a[0]\n",
        "    return a.reshape(-1, d + 1)[:, 1:].copy().view('float32')"
      ],
      "metadata": {
        "id": "Rnqkwxlc9in1"
      },
      "execution_count": 5,
      "outputs": []
    },
    {
      "cell_type": "code",
      "source": [
        "# data we will search through\n",
        "xb = read_fvecs('./sift/sift_base.fvecs')  # 1M samples\n",
        "# also get some query vectors to search with\n",
        "xq = read_fvecs('./sift/sift_query.fvecs')\n",
        "# take just one query (there are many in sift_learn.fvecs)\n",
        "xq = xq[0].reshape(1, xq.shape[1])"
      ],
      "metadata": {
        "id": "Zz3UDios9klc"
      },
      "execution_count": 6,
      "outputs": []
    },
    {
      "cell_type": "code",
      "source": [
        "xq.shape"
      ],
      "metadata": {
        "colab": {
          "base_uri": "https://localhost:8080/"
        },
        "id": "z4czYUhZ9mVa",
        "outputId": "d7cf4499-51dd-4f17-fc4e-1b04f445dbe4"
      },
      "execution_count": 7,
      "outputs": [
        {
          "output_type": "execute_result",
          "data": {
            "text/plain": [
              "(1, 128)"
            ]
          },
          "metadata": {},
          "execution_count": 7
        }
      ]
    },
    {
      "cell_type": "code",
      "source": [
        "xb.shape"
      ],
      "metadata": {
        "colab": {
          "base_uri": "https://localhost:8080/"
        },
        "id": "qkyVLpbF9n69",
        "outputId": "d970cf5f-d129-4cc7-f6e7-70780944a891"
      },
      "execution_count": 8,
      "outputs": [
        {
          "output_type": "execute_result",
          "data": {
            "text/plain": [
              "(1000000, 128)"
            ]
          },
          "metadata": {},
          "execution_count": 8
        }
      ]
    },
    {
      "cell_type": "markdown",
      "source": [
        "\n",
        "\n",
        "\n",
        "\n",
        "**Benchmarking Algorithms**"
      ],
      "metadata": {
        "id": "YTOLTgg1wRvB"
      }
    },
    {
      "cell_type": "code",
      "source": [
        "import time\n",
        "import sys\n",
        "import numpy as np\n",
        "import faiss\n",
        "\n",
        "try:\n",
        "    from faiss.contrib.datasets_fb import DatasetSIFT1M\n",
        "except ImportError:\n",
        "    from faiss.contrib.datasets import DatasetSIFT1M"
      ],
      "metadata": {
        "id": "U0FETty1w9O5"
      },
      "execution_count": 9,
      "outputs": []
    },
    {
      "cell_type": "code",
      "source": [
        "def get_data(size=10**5):\n",
        "  ds = DatasetSIFT1M()\n",
        "  xq = ds.get_queries()[:size, :]\n",
        "  xb = ds.get_database()[:size, :]\n",
        "  gt = ds.get_groundtruth()[:size, :]\n",
        "  # xt = ds.get_train()\n",
        "\n",
        "  return xb, xq, gt\n",
        "\n",
        "\n",
        "def evaluate(index):\n",
        "    import time\n",
        "    # for timing with a single core\n",
        "    # faiss.omp_set_num_threads(1)\n",
        "    t0 = time.time()\n",
        "    D, I = index.search(xq, k)\n",
        "    #print(I)\n",
        "    t1 = time.time()\n",
        "\n",
        "\n",
        "    missing_rate = (I == -1).sum() / float(k * nq)\n",
        "    recall_at_1 = (I[:,:1] == gt[:, :1]).sum() / float(nq)\n",
        "    print(\"\\t %7.3f ms, R@1 %.4f, missing rate %.4f\" % (\n",
        "        (t1 - t0) * 1000.0, recall_at_1, missing_rate))\n",
        "    return (t1 - t0) * 1000.0 , recall_at_1\n"
      ],
      "metadata": {
        "id": "dpkzttlfwRGq"
      },
      "execution_count": 11,
      "outputs": []
    },
    {
      "cell_type": "code",
      "source": [
        "times = []\n",
        "recall=[]\n",
        "algorithms = ['flatl2', 'flatip', 'ivf', 'pq', 'hnsw']\n",
        "execution_time = {'flatl2':[], 'flatip':[], 'ivf':[], 'pq':[], 'hnsw':[] }\n",
        "recall_at_1 = {'flatl2':[], 'flatip':[], 'ivf':[], 'pq':[], 'hnsw':[] }\n",
        "\n",
        "for size in [10000, 100000, 1000000]:\n",
        "  xb, xq, gt = get_data(size=size)\n",
        "  nq, d = xq.shape\n",
        "  k = 4\n",
        "\n",
        "  if 'flatl2' in algorithms:\n",
        "    index = faiss.IndexFlatL2(d)\n",
        "    print(\"flatl2\")\n",
        "    # to see progress\n",
        "    index.verbose = True\n",
        "    index.add(xb)\n",
        "    t, r= evaluate(index)\n",
        "    execution_time['flatl2'].append(np.around(t, 3))\n",
        "    recall_at_1['flatl2'].append(np.around(r, 3))\n",
        "\n",
        "  if 'flatip' in algorithms:\n",
        "    index = faiss.IndexFlatIP(d)\n",
        "    print(\"flatip\")\n",
        "    # to see progress\n",
        "    index.verbose = True\n",
        "    index.add(xb)\n",
        "    t, r= evaluate(index)\n",
        "    execution_time['flatip'].append(np.around(t, 3))\n",
        "    recall_at_1['flatip'].append(np.around(r, 3))\n",
        "\n",
        "  if 'ivf' in algorithms:\n",
        "    print(\"ivf\")\n",
        "    nlist = 128  # number of cells/clusters to partition data into\n",
        "    quantizer = faiss.IndexFlatIP(d)  # how the vectors will be stored/compared\n",
        "    index = faiss.IndexIVFFlat(quantizer, d, nlist)\n",
        "    index.train(xb)  # we must train the index to cluster into cells\n",
        "    index.add(xb)\n",
        "    index.nprobe = 8  # set how many of nearest cells to search\n",
        "    t, r= evaluate(index)\n",
        "    execution_time['ivf'].append(np.around(t, 3))\n",
        "    recall_at_1['ivf'].append(np.around(r, 3))\n",
        "\n",
        "  if 'pq' in algorithms:\n",
        "    print(\"pq\")\n",
        "    nbits = m = 8  # number of bits per subquantizer, k* = 2**nbits\n",
        "    index = faiss.IndexPQ(d, m, nbits)\n",
        "    index.train(xb)\n",
        "    index.add(xb)\n",
        "    t, r= evaluate(index)\n",
        "    execution_time['pq'].append(np.around(t, 3))\n",
        "    recall_at_1['pq'].append(np.around(r, 3))\n",
        "\n",
        "  if 'hnsw' in algorithms:\n",
        "    print(\"hnsw\")\n",
        "    M = 64  # number of connections each vertex will have\n",
        "    ef_search = 32  # depth of layers explored during search\n",
        "    ef_construction = 32  # depth of layers explored during index construction\n",
        "    # initialize index (d == 128)\n",
        "    index = faiss.IndexHNSWFlat(d, M)\n",
        "    # set efConstruction and efSearch parameters\n",
        "    index.hnsw.efConstruction = ef_construction\n",
        "    index.hnsw.efSearch = ef_search\n",
        "    # add data to index\n",
        "    index.add(xb)\n",
        "    t, r= evaluate(index)\n",
        "    execution_time['hnsw'].append(np.around(t, 3))\n",
        "    recall_at_1['hnsw'].append(np.around(r, 3))\n",
        "\n",
        "\n"
      ],
      "metadata": {
        "id": "Eu6iFBnqzpPz",
        "colab": {
          "base_uri": "https://localhost:8080/"
        },
        "outputId": "06c10b2b-9761-45f1-9ac1-a46a24c8ab7a"
      },
      "execution_count": 19,
      "outputs": [
        {
          "output_type": "stream",
          "name": "stdout",
          "text": [
            "flatl2\n",
            "\t 1633.288 ms, R@1 0.0143, missing rate 0.0000\n",
            "flatip\n",
            "\t 1574.417 ms, R@1 0.0139, missing rate 0.0000\n",
            "ivf\n",
            "\t 365.442 ms, R@1 0.0140, missing rate 0.0000\n",
            "pq\n",
            "\t 1047.015 ms, R@1 0.0104, missing rate 0.0000\n",
            "hnsw\n",
            "\t 886.156 ms, R@1 0.0143, missing rate 0.0000\n",
            "flatl2\n",
            "\t 8822.288 ms, R@1 0.1089, missing rate 0.0000\n",
            "flatip\n",
            "\t 6789.946 ms, R@1 0.1052, missing rate 0.0000\n",
            "ivf\n",
            "\t 5825.834 ms, R@1 0.1072, missing rate 0.0000\n",
            "pq\n",
            "\t 6744.356 ms, R@1 0.0496, missing rate 0.0000\n",
            "hnsw\n",
            "\t 1757.262 ms, R@1 0.1088, missing rate 0.0000\n",
            "flatl2\n",
            "\t 79247.963 ms, R@1 0.9914, missing rate 0.0000\n",
            "flatip\n",
            "\t 72409.941 ms, R@1 0.8835, missing rate 0.0000\n",
            "ivf\n",
            "\t 69504.081 ms, R@1 0.9783, missing rate 0.0000\n",
            "pq\n",
            "\t 58996.537 ms, R@1 0.2240, missing rate 0.0000\n",
            "hnsw\n",
            "\t 3512.783 ms, R@1 0.9625, missing rate 0.0000\n",
            "flatl2\n",
            "\t 78060.430 ms, R@1 0.9914, missing rate 0.0000\n",
            "flatip\n",
            "\t 70435.901 ms, R@1 0.8835, missing rate 0.0000\n",
            "ivf\n",
            "\t 72120.011 ms, R@1 0.9783, missing rate 0.0000\n",
            "pq\n",
            "\t 59322.002 ms, R@1 0.2240, missing rate 0.0000\n",
            "hnsw\n",
            "\t 3176.254 ms, R@1 0.9648, missing rate 0.0000\n"
          ]
        }
      ]
    },
    {
      "cell_type": "code",
      "source": [
        "# execution_time['hnsw'] = np.around(times, 3)\n",
        "# recall_at_1['hnsw'] = np.around(recall, 3)"
      ],
      "metadata": {
        "id": "Q7uA_t5LExFw"
      },
      "execution_count": null,
      "outputs": []
    },
    {
      "cell_type": "code",
      "source": [
        "recall_at_1"
      ],
      "metadata": {
        "colab": {
          "base_uri": "https://localhost:8080/"
        },
        "id": "f5ueGdY4bqs-",
        "outputId": "d1ec68c7-022f-4366-fd72-845615823a0f"
      },
      "execution_count": 26,
      "outputs": [
        {
          "output_type": "execute_result",
          "data": {
            "text/plain": [
              "{'flatl2': [0.014, 0.109, 0.991, 0.991],\n",
              " 'flatip': [0.014, 0.105, 0.884, 0.884],\n",
              " 'ivf': [0.014, 0.107, 0.978, 0.978],\n",
              " 'pq': [0.01, 0.05, 0.224, 0.224],\n",
              " 'hnsw': [0.014, 0.109, 0.962, 0.965]}"
            ]
          },
          "metadata": {},
          "execution_count": 26
        }
      ]
    },
    {
      "cell_type": "code",
      "source": [
        "import matplotlib.pyplot as plt\n",
        "plt.plot([10000, 100000, 1000000], execution_time['ivf'][:3], linestyle='--', marker='o', color='b', label='IVFFlat')\n",
        "plt.plot([10000, 100000, 1000000], execution_time['pq'][:3], linestyle='--', marker='o', color='r', label='PQ')\n",
        "plt.plot([10000, 100000, 1000000], execution_time['flatl2'][:3], linestyle='--', marker='o', color='g', label='FLATL2')\n",
        "plt.plot([10000, 100000, 1000000], execution_time['flatip'][:3], linestyle='--', marker='o', color='y', label='FLATIP')\n",
        "plt.plot([10000, 100000, 1000000], execution_time['hnsw'][:3], linestyle='--', marker='o', color='m', label='HNSW')\n",
        "plt.xlabel('Number of vectors', fontsize=10)\n",
        "plt.title('Search time in ms vs Number of Vectors', fontsize=12)\n",
        "\n",
        "plt.legend()"
      ],
      "metadata": {
        "colab": {
          "base_uri": "https://localhost:8080/",
          "height": 489
        },
        "id": "urHymaHGG_Z2",
        "outputId": "4fa04f35-8a85-4b79-fe5c-503d2cf09dbd"
      },
      "execution_count": 32,
      "outputs": [
        {
          "output_type": "execute_result",
          "data": {
            "text/plain": [
              "<matplotlib.legend.Legend at 0x7cc6782e7d00>"
            ]
          },
          "metadata": {},
          "execution_count": 32
        },
        {
          "output_type": "display_data",
          "data": {
            "text/plain": [
              "<Figure size 640x480 with 1 Axes>"
            ],
            "image/png": "[encoded data removed]"
          },
          "metadata": {}
        }
      ]
    },
    {
      "cell_type": "code",
      "source": [
        "plt.plot([10000, 100000, 1000000], recall_at_1['ivf'][:3], linestyle='--', marker='o', color='b', label='IVFFlat')\n",
        "plt.plot([10000, 100000, 1000000], recall_at_1['pq'][:3], linestyle='--', marker='o', color='r', label='PQ')\n",
        "plt.plot([10000, 100000, 1000000], recall_at_1['flatl2'][:3], linestyle='--', marker='o', color='g', label='FLATL2')\n",
        "plt.plot([10000, 100000, 1000000], recall_at_1['flatip'][:3], linestyle='--', marker='o', color='y', label='FLATIP')\n",
        "plt.plot([10000, 100000, 1000000], recall_at_1['hnsw'][:3], linestyle='--', marker='o', color='m', label='HNSW')\n",
        "plt.xlabel('Number of vectors', fontsize=10)\n",
        "plt.title('Recall@1 vs Number of Vectors', fontsize=12)\n",
        "plt.legend()\n"
      ],
      "metadata": {
        "colab": {
          "base_uri": "https://localhost:8080/",
          "height": 489
        },
        "id": "PO1j5nqdG_lM",
        "outputId": "96f26e24-825e-4ebd-f842-5e788888fe8a"
      },
      "execution_count": 34,
      "outputs": [
        {
          "output_type": "execute_result",
          "data": {
            "text/plain": [
              "<matplotlib.legend.Legend at 0x7cc6780c2a40>"
            ]
          },
          "metadata": {},
          "execution_count": 34
        },
        {
          "output_type": "display_data",
          "data": {
            "text/plain": [
              "<Figure size 640x480 with 1 Axes>"
            ],
            "image/png": "[encoded data removed]"
          },
          "metadata": {}
        }
      ]
    },
    {
      "cell_type": "code",
      "source": [
        "import pandas as pd\n",
        "pd.DataFrame(execution_time).T"
      ],
      "metadata": {
        "colab": {
          "base_uri": "https://localhost:8080/",
          "height": 245
        },
        "id": "sEIDYTKoFUtL",
        "outputId": "b68e488d-5668-4faa-af52-18cd807724e9"
      },
      "execution_count": 35,
      "outputs": [
        {
          "output_type": "execute_result",
          "data": {
            "text/plain": [
              "               0         1          2          3\n",
              "flatl2  1633.288  8822.288  79247.963  78060.430\n",
              "flatip  1574.417  6789.946  72409.941  70435.901\n",
              "ivf      365.442  5825.834  69504.081  72120.011\n",
              "pq      1047.015  6744.356  58996.537  59322.002\n",
              "hnsw     886.156  1757.262   3512.783   3176.254"
            ],
            "text/html": [
              "\n",
              "  <div id=\"df-e3c4371a-7c79-4414-ac86-33a64b5ff5f2\" class=\"colab-df-container\">\n",
              "    <div>\n",
              "<style scoped>\n",
              "    .dataframe tbody tr th:only-of-type {\n",
              "        vertical-align: middle;\n",
              "    }\n",
              "\n",
              "    .dataframe tbody tr th {\n",
              "        vertical-align: top;\n",
              "    }\n",
              "\n",
              "    .dataframe thead th {\n",
              "        text-align: right;\n",
              "    }\n",
              "</style>\n",
              "<table border=\"1\" class=\"dataframe\">\n",
              "  <thead>\n",
              "    <tr style=\"text-align: right;\">\n",
              "      <th></th>\n",
              "      <th>0</th>\n",
              "      <th>1</th>\n",
              "      <th>2</th>\n",
              "      <th>3</th>\n",
              "    </tr>\n",
              "  </thead>\n",
              "  <tbody>\n",
              "    <tr>\n",
              "      <th>flatl2</th>\n",
              "      <td>1633.288</td>\n",
              "      <td>8822.288</td>\n",
              "      <td>79247.963</td>\n",
              "      <td>78060.430</td>\n",
              "    </tr>\n",
              "    <tr>\n",
              "      <th>flatip</th>\n",
              "      <td>1574.417</td>\n",
              "      <td>6789.946</td>\n",
              "      <td>72409.941</td>\n",
              "      <td>70435.901</td>\n",
              "    </tr>\n",
              "    <tr>\n",
              "      <th>ivf</th>\n",
              "      <td>365.442</td>\n",
              "      <td>5825.834</td>\n",
              "      <td>69504.081</td>\n",
              "      <td>72120.011</td>\n",
              "    </tr>\n",
              "    <tr>\n",
              "      <th>pq</th>\n",
              "      <td>1047.015</td>\n",
              "      <td>6744.356</td>\n",
              "      <td>58996.537</td>\n",
              "      <td>59322.002</td>\n",
              "    </tr>\n",
              "    <tr>\n",
              "      <th>hnsw</th>\n",
              "      <td>886.156</td>\n",
              "      <td>1757.262</td>\n",
              "      <td>3512.783</td>\n",
              "      <td>3176.254</td>\n",
              "    </tr>\n",
              "  </tbody>\n",
              "</table>\n",
              "</div>\n",
              "    <div class=\"colab-df-buttons\">\n",
              "\n",
              "  <div class=\"colab-df-container\">\n",
              "    <button class=\"colab-df-convert\" onclick=\"convertToInteractive('df-e3c4371a-7c79-4414-ac86-33a64b5ff5f2')\"\n",
              "            title=\"Convert this dataframe to an interactive table.\"\n",
              "            style=\"display:none;\">\n",
              "\n",
              "  <svg xmlns=\"http://www.w3.org/2000/svg\" height=\"24px\" viewBox=\"0 -960 960 960\">\n",
              "    <path d=\"M120-120v-720h720v720H120Zm60-500h600v-160H180v160Zm220 220h160v-160H400v160Zm0 220h160v-160H400v160ZM180-400h160v-160H180v160Zm440 0h160v-160H620v160ZM180-180h160v-160H180v160Zm440 0h160v-160H620v160Z\"/>\n",
              "  </svg>\n",
              "    </button>\n",
              "\n",
              "  <style>\n",
              "    .colab-df-container {\n",
              "      display:flex;\n",
              "      gap: 12px;\n",
              "    }\n",
              "\n",
              "    .colab-df-convert {\n",
              "      background-color: #E8F0FE;\n",
              "      border: none;\n",
              "      border-radius: 50%;\n",
              "      cursor: pointer;\n",
              "      display: none;\n",
              "      fill: #1967D2;\n",
              "      height: 32px;\n",
              "      padding: 0 0 0 0;\n",
              "      width: 32px;\n",
              "    }\n",
              "\n",
              "    .colab-df-convert:hover {\n",
              "      background-color: #E2EBFA;\n",
              "      box-shadow: 0px 1px 2px rgba(60, 64, 67, 0.3), 0px 1px 3px 1px rgba(60, 64, 67, 0.15);\n",
              "      fill: #174EA6;\n",
              "    }\n",
              "\n",
              "    .colab-df-buttons div {\n",
              "      margin-bottom: 4px;\n",
              "    }\n",
              "\n",
              "    [theme=dark] .colab-df-convert {\n",
              "      background-color: #3B4455;\n",
              "      fill: #D2E3FC;\n",
              "    }\n",
              "\n",
              "    [theme=dark] .colab-df-convert:hover {\n",
              "      background-color: #434B5C;\n",
              "      box-shadow: 0px 1px 3px 1px rgba(0, 0, 0, 0.15);\n",
              "      filter: drop-shadow(0px 1px 2px rgba(0, 0, 0, 0.3));\n",
              "      fill: #FFFFFF;\n",
              "    }\n",
              "  </style>\n",
              "\n",
              "    <script>\n",
              "      const buttonEl =\n",
              "        document.querySelector('#df-e3c4371a-7c79-4414-ac86-33a64b5ff5f2 button.colab-df-convert');\n",
              "      buttonEl.style.display =\n",
              "        google.colab.kernel.accessAllowed ? 'block' : 'none';\n",
              "\n",
              "      async function convertToInteractive(key) {\n",
              "        const element = document.querySelector('#df-e3c4371a-7c79-4414-ac86-33a64b5ff5f2');\n",
              "        const dataTable =\n",
              "          await google.colab.kernel.invokeFunction('convertToInteractive',\n",
              "                                                    [key], {});\n",
              "        if (!dataTable) return;\n",
              "\n",
              "        const docLinkHtml = 'Like what you see? Visit the ' +\n",
              "          '<a target=\"_blank\" href=https://colab.research.google.com/notebooks/data_table.ipynb>data table notebook</a>'\n",
              "          + ' to learn more about interactive tables.';\n",
              "        element.innerHTML = '';\n",
              "        dataTable['output_type'] = 'display_data';\n",
              "        await google.colab.output.renderOutput(dataTable, element);\n",
              "        const docLink = document.createElement('div');\n",
              "        docLink.innerHTML = docLinkHtml;\n",
              "        element.appendChild(docLink);\n",
              "      }\n",
              "    </script>\n",
              "  </div>\n",
              "\n",
              "\n",
              "<div id=\"df-d51c2320-35f3-4840-88fd-eb21c35b11dc\">\n",
              "  <button class=\"colab-df-quickchart\" onclick=\"quickchart('df-d51c2320-35f3-4840-88fd-eb21c35b11dc')\"\n",
              "            title=\"Suggest charts\"\n",
              "            style=\"display:none;\">\n",
              "\n",
              "<svg xmlns=\"http://www.w3.org/2000/svg\" height=\"24px\"viewBox=\"0 0 24 24\"\n",
              "     width=\"24px\">\n",
              "    <g>\n",
              "        <path d=\"M19 3H5c-1.1 0-2 .9-2 2v14c0 1.1.9 2 2 2h14c1.1 0 2-.9 2-2V5c0-1.1-.9-2-2-2zM9 17H7v-7h2v7zm4 0h-2V7h2v10zm4 0h-2v-4h2v4z\"/>\n",
              "    </g>\n",
              "</svg>\n",
              "  </button>\n",
              "\n",
              "<style>\n",
              "  .colab-df-quickchart {\n",
              "      --bg-color: #E8F0FE;\n",
              "      --fill-color: #1967D2;\n",
              "      --hover-bg-color: #E2EBFA;\n",
              "      --hover-fill-color: #174EA6;\n",
              "      --disabled-fill-color: #AAA;\n",
              "      --disabled-bg-color: #DDD;\n",
              "  }\n",
              "\n",
              "  [theme=dark] .colab-df-quickchart {\n",
              "      --bg-color: #3B4455;\n",
              "      --fill-color: #D2E3FC;\n",
              "      --hover-bg-color: #434B5C;\n",
              "      --hover-fill-color: #FFFFFF;\n",
              "      --disabled-bg-color: #3B4455;\n",
              "      --disabled-fill-color: #666;\n",
              "  }\n",
              "\n",
              "  .colab-df-quickchart {\n",
              "    background-color: var(--bg-color);\n",
              "    border: none;\n",
              "    border-radius: 50%;\n",
              "    cursor: pointer;\n",
              "    display: none;\n",
              "    fill: var(--fill-color);\n",
              "    height: 32px;\n",
              "    padding: 0;\n",
              "    width: 32px;\n",
              "  }\n",
              "\n",
              "  .colab-df-quickchart:hover {\n",
              "    background-color: var(--hover-bg-color);\n",
              "    box-shadow: 0 1px 2px rgba(60, 64, 67, 0.3), 0 1px 3px 1px rgba(60, 64, 67, 0.15);\n",
              "    fill: var(--button-hover-fill-color);\n",
              "  }\n",
              "\n",
              "  .colab-df-quickchart-complete:disabled,\n",
              "  .colab-df-quickchart-complete:disabled:hover {\n",
              "    background-color: var(--disabled-bg-color);\n",
              "    fill: var(--disabled-fill-color);\n",
              "    box-shadow: none;\n",
              "  }\n",
              "\n",
              "  .colab-df-spinner {\n",
              "    border: 2px solid var(--fill-color);\n",
              "    border-color: transparent;\n",
              "    border-bottom-color: var(--fill-color);\n",
              "    animation:\n",
              "      spin 1s steps(1) infinite;\n",
              "  }\n",
              "\n",
              "  @keyframes spin {\n",
              "    0% {\n",
              "      border-color: transparent;\n",
              "      border-bottom-color: var(--fill-color);\n",
              "      border-left-color: var(--fill-color);\n",
              "    }\n",
              "    20% {\n",
              "      border-color: transparent;\n",
              "      border-left-color: var(--fill-color);\n",
              "      border-top-color: var(--fill-color);\n",
              "    }\n",
              "    30% {\n",
              "      border-color: transparent;\n",
              "      border-left-color: var(--fill-color);\n",
              "      border-top-color: var(--fill-color);\n",
              "      border-right-color: var(--fill-color);\n",
              "    }\n",
              "    40% {\n",
              "      border-color: transparent;\n",
              "      border-right-color: var(--fill-color);\n",
              "      border-top-color: var(--fill-color);\n",
              "    }\n",
              "    60% {\n",
              "      border-color: transparent;\n",
              "      border-right-color: var(--fill-color);\n",
              "    }\n",
              "    80% {\n",
              "      border-color: transparent;\n",
              "      border-right-color: var(--fill-color);\n",
              "      border-bottom-color: var(--fill-color);\n",
              "    }\n",
              "    90% {\n",
              "      border-color: transparent;\n",
              "      border-bottom-color: var(--fill-color);\n",
              "    }\n",
              "  }\n",
              "</style>\n",
              "\n",
              "  <script>\n",
              "    async function quickchart(key) {\n",
              "      const quickchartButtonEl =\n",
              "        document.querySelector('#' + key + ' button');\n",
              "      quickchartButtonEl.disabled = true;  // To prevent multiple clicks.\n",
              "      quickchartButtonEl.classList.add('colab-df-spinner');\n",
              "      try {\n",
              "        const charts = await google.colab.kernel.invokeFunction(\n",
              "            'suggestCharts', [key], {});\n",
              "      } catch (error) {\n",
              "        console.error('Error during call to suggestCharts:', error);\n",
              "      }\n",
              "      quickchartButtonEl.classList.remove('colab-df-spinner');\n",
              "      quickchartButtonEl.classList.add('colab-df-quickchart-complete');\n",
              "    }\n",
              "    (() => {\n",
              "      let quickchartButtonEl =\n",
              "        document.querySelector('#df-d51c2320-35f3-4840-88fd-eb21c35b11dc button');\n",
              "      quickchartButtonEl.style.display =\n",
              "        google.colab.kernel.accessAllowed ? 'block' : 'none';\n",
              "    })();\n",
              "  </script>\n",
              "</div>\n",
              "\n",
              "    </div>\n",
              "  </div>\n"
            ],
            "application/vnd.google.colaboratory.intrinsic+json": {
              "type": "dataframe",
              "summary": "{\n  \"name\": \"pd\",\n  \"rows\": 5,\n  \"fields\": [\n    {\n      \"column\": 0,\n      \"properties\": {\n        \"dtype\": \"number\",\n        \"std\": 523.8252855994067,\n        \"min\": 365.442,\n        \"max\": 1633.288,\n        \"num_unique_values\": 5,\n        \"samples\": [\n          1574.417,\n          886.156,\n          365.442\n        ],\n        \"semantic_type\": \"\",\n        \"description\": \"\"\n      }\n    },\n    {\n      \"column\": 1,\n      \"properties\": {\n        \"dtype\": \"number\",\n        \"std\": 2606.42581273076,\n        \"min\": 1757.262,\n        \"max\": 8822.288,\n        \"num_unique_values\": 5,\n        \"samples\": [\n          6789.946,\n          1757.262,\n          5825.834\n        ],\n        \"semantic_type\": \"\",\n        \"description\": \"\"\n      }\n    },\n    {\n      \"column\": 2,\n      \"properties\": {\n        \"dtype\": \"number\",\n        \"std\": 30632.114019621076,\n        \"min\": 3512.783,\n        \"max\": 79247.963,\n        \"num_unique_values\": 5,\n        \"samples\": [\n          72409.941,\n          3512.783,\n          69504.081\n        ],\n        \"semantic_type\": \"\",\n        \"description\": \"\"\n      }\n    },\n    {\n      \"column\": 3,\n      \"properties\": {\n        \"dtype\": \"number\",\n        \"std\": 30636.40097468623,\n        \"min\": 3176.254,\n        \"max\": 78060.43,\n        \"num_unique_values\": 5,\n        \"samples\": [\n          70435.901,\n          3176.254,\n          72120.011\n        ],\n        \"semantic_type\": \"\",\n        \"description\": \"\"\n      }\n    }\n  ]\n}"
            }
          },
          "metadata": {},
          "execution_count": 35
        }
      ]
    },
    {
      "cell_type": "code",
      "source": [
        "pd.DataFrame(recall_at_1).T"
      ],
      "metadata": {
        "colab": {
          "base_uri": "https://localhost:8080/",
          "height": 424
        },
        "id": "pHSdvXfXxuy0",
        "outputId": "b4fd199c-c13c-48fa-b082-390cb6dd38b1"
      },
      "execution_count": 36,
      "outputs": [
        {
          "output_type": "execute_result",
          "data": {
            "text/plain": [
              "            0      1      2      3\n",
              "flatl2  0.014  0.109  0.991  0.991\n",
              "flatip  0.014  0.105  0.884  0.884\n",
              "ivf     0.014  0.107  0.978  0.978\n",
              "pq      0.010  0.050  0.224  0.224\n",
              "hnsw    0.014  0.109  0.962  0.965"
            ],
            "text/html": [
              "\n",
              "  <div id=\"df-2a4cb7e3-9992-46fa-9ee8-a6532a648493\" class=\"colab-df-container\">\n",
              "    <div>\n",
              "<style scoped>\n",
              "    .dataframe tbody tr th:only-of-type {\n",
              "        vertical-align: middle;\n",
              "    }\n",
              "\n",
              "    .dataframe tbody tr th {\n",
              "        vertical-align: top;\n",
              "    }\n",
              "\n",
              "    .dataframe thead th {\n",
              "        text-align: right;\n",
              "    }\n",
              "</style>\n",
              "<table border=\"1\" class=\"dataframe\">\n",
              "  <thead>\n",
              "    <tr style=\"text-align: right;\">\n",
              "      <th></th>\n",
              "      <th>0</th>\n",
              "      <th>1</th>\n",
              "      <th>2</th>\n",
              "      <th>3</th>\n",
              "    </tr>\n",
              "  </thead>\n",
              "  <tbody>\n",
              "    <tr>\n",
              "      <th>flatl2</th>\n",
              "      <td>0.014</td>\n",
              "      <td>0.109</td>\n",
              "      <td>0.991</td>\n",
              "      <td>0.991</td>\n",
              "    </tr>\n",
              "    <tr>\n",
              "      <th>flatip</th>\n",
              "      <td>0.014</td>\n",
              "      <td>0.105</td>\n",
              "      <td>0.884</td>\n",
              "      <td>0.884</td>\n",
              "    </tr>\n",
              "    <tr>\n",
              "      <th>ivf</th>\n",
              "      <td>0.014</td>\n",
              "      <td>0.107</td>\n",
              "      <td>0.978</td>\n",
              "      <td>0.978</td>\n",
              "    </tr>\n",
              "    <tr>\n",
              "      <th>pq</th>\n",
              "      <td>0.010</td>\n",
              "      <td>0.050</td>\n",
              "      <td>0.224</td>\n",
              "      <td>0.224</td>\n",
              "    </tr>\n",
              "    <tr>\n",
              "      <th>hnsw</th>\n",
              "      <td>0.014</td>\n",
              "      <td>0.109</td>\n",
              "      <td>0.962</td>\n",
              "      <td>0.965</td>\n",
              "    </tr>\n",
              "  </tbody>\n",
              "</table>\n",
              "</div>\n",
              "    <div class=\"colab-df-buttons\">\n",
              "\n",
              "  <div class=\"colab-df-container\">\n",
              "    <button class=\"colab-df-convert\" onclick=\"convertToInteractive('df-2a4cb7e3-9992-46fa-9ee8-a6532a648493')\"\n",
              "            title=\"Convert this dataframe to an interactive table.\"\n",
              "            style=\"display:none;\">\n",
              "\n",
              "  <svg xmlns=\"http://www.w3.org/2000/svg\" height=\"24px\" viewBox=\"0 -960 960 960\">\n",
              "    <path d=\"M120-120v-720h720v720H120Zm60-500h600v-160H180v160Zm220 220h160v-160H400v160Zm0 220h160v-160H400v160ZM180-400h160v-160H180v160Zm440 0h160v-160H620v160ZM180-180h160v-160H180v160Zm440 0h160v-160H620v160Z\"/>\n",
              "  </svg>\n",
              "    </button>\n",
              "\n",
              "  <style>\n",
              "    .colab-df-container {\n",
              "      display:flex;\n",
              "      gap: 12px;\n",
              "    }\n",
              "\n",
              "    .colab-df-convert {\n",
              "      background-color: #E8F0FE;\n",
              "      border: none;\n",
              "      border-radius: 50%;\n",
              "      cursor: pointer;\n",
              "      display: none;\n",
              "      fill: #1967D2;\n",
              "      height: 32px;\n",
              "      padding: 0 0 0 0;\n",
              "      width: 32px;\n",
              "    }\n",
              "\n",
              "    .colab-df-convert:hover {\n",
              "      background-color: #E2EBFA;\n",
              "      box-shadow: 0px 1px 2px rgba(60, 64, 67, 0.3), 0px 1px 3px 1px rgba(60, 64, 67, 0.15);\n",
              "      fill: #174EA6;\n",
              "    }\n",
              "\n",
              "    .colab-df-buttons div {\n",
              "      margin-bottom: 4px;\n",
              "    }\n",
              "\n",
              "    [theme=dark] .colab-df-convert {\n",
              "      background-color: #3B4455;\n",
              "      fill: #D2E3FC;\n",
              "    }\n",
              "\n",
              "    [theme=dark] .colab-df-convert:hover {\n",
              "      background-color: #434B5C;\n",
              "      box-shadow: 0px 1px 3px 1px rgba(0, 0, 0, 0.15);\n",
              "      filter: drop-shadow(0px 1px 2px rgba(0, 0, 0, 0.3));\n",
              "      fill: #FFFFFF;\n",
              "    }\n",
              "  </style>\n",
              "\n",
              "    <script>\n",
              "      const buttonEl =\n",
              "        document.querySelector('#df-2a4cb7e3-9992-46fa-9ee8-a6532a648493 button.colab-df-convert');\n",
              "      buttonEl.style.display =\n",
              "        google.colab.kernel.accessAllowed ? 'block' : 'none';\n",
              "\n",
              "      async function convertToInteractive(key) {\n",
              "        const element = document.querySelector('#df-2a4cb7e3-9992-46fa-9ee8-a6532a648493');\n",
              "        const dataTable =\n",
              "          await google.colab.kernel.invokeFunction('convertToInteractive',\n",
              "                                                    [key], {});\n",
              "        if (!dataTable) return;\n",
              "\n",
              "        const docLinkHtml = 'Like what you see? Visit the ' +\n",
              "          '<a target=\"_blank\" href=https://colab.research.google.com/notebooks/data_table.ipynb>data table notebook</a>'\n",
              "          + ' to learn more about interactive tables.';\n",
              "        element.innerHTML = '';\n",
              "        dataTable['output_type'] = 'display_data';\n",
              "        await google.colab.output.renderOutput(dataTable, element);\n",
              "        const docLink = document.createElement('div');\n",
              "        docLink.innerHTML = docLinkHtml;\n",
              "        element.appendChild(docLink);\n",
              "      }\n",
              "    </script>\n",
              "  </div>\n",
              "\n",
              "\n",
              "<div id=\"df-57e687de-ccbf-4d53-a180-1f6d508ba8c6\">\n",
              "  <button class=\"colab-df-quickchart\" onclick=\"quickchart('df-57e687de-ccbf-4d53-a180-1f6d508ba8c6')\"\n",
              "            title=\"Suggest charts\"\n",
              "            style=\"display:none;\">\n",
              "\n",
              "<svg xmlns=\"http://www.w3.org/2000/svg\" height=\"24px\"viewBox=\"0 0 24 24\"\n",
              "     width=\"24px\">\n",
              "    <g>\n",
              "        <path d=\"M19 3H5c-1.1 0-2 .9-2 2v14c0 1.1.9 2 2 2h14c1.1 0 2-.9 2-2V5c0-1.1-.9-2-2-2zM9 17H7v-7h2v7zm4 0h-2V7h2v10zm4 0h-2v-4h2v4z\"/>\n",
              "    </g>\n",
              "</svg>\n",
              "  </button>\n",
              "\n",
              "<style>\n",
              "  .colab-df-quickchart {\n",
              "      --bg-color: #E8F0FE;\n",
              "      --fill-color: #1967D2;\n",
              "      --hover-bg-color: #E2EBFA;\n",
              "      --hover-fill-color: #174EA6;\n",
              "      --disabled-fill-color: #AAA;\n",
              "      --disabled-bg-color: #DDD;\n",
              "  }\n",
              "\n",
              "  [theme=dark] .colab-df-quickchart {\n",
              "      --bg-color: #3B4455;\n",
              "      --fill-color: #D2E3FC;\n",
              "      --hover-bg-color: #434B5C;\n",
              "      --hover-fill-color: #FFFFFF;\n",
              "      --disabled-bg-color: #3B4455;\n",
              "      --disabled-fill-color: #666;\n",
              "  }\n",
              "\n",
              "  .colab-df-quickchart {\n",
              "    background-color: var(--bg-color);\n",
              "    border: none;\n",
              "    border-radius: 50%;\n",
              "    cursor: pointer;\n",
              "    display: none;\n",
              "    fill: var(--fill-color);\n",
              "    height: 32px;\n",
              "    padding: 0;\n",
              "    width: 32px;\n",
              "  }\n",
              "\n",
              "  .colab-df-quickchart:hover {\n",
              "    background-color: var(--hover-bg-color);\n",
              "    box-shadow: 0 1px 2px rgba(60, 64, 67, 0.3), 0 1px 3px 1px rgba(60, 64, 67, 0.15);\n",
              "    fill: var(--button-hover-fill-color);\n",
              "  }\n",
              "\n",
              "  .colab-df-quickchart-complete:disabled,\n",
              "  .colab-df-quickchart-complete:disabled:hover {\n",
              "    background-color: var(--disabled-bg-color);\n",
              "    fill: var(--disabled-fill-color);\n",
              "    box-shadow: none;\n",
              "  }\n",
              "\n",
              "  .colab-df-spinner {\n",
              "    border: 2px solid var(--fill-color);\n",
              "    border-color: transparent;\n",
              "    border-bottom-color: var(--fill-color);\n",
              "    animation:\n",
              "      spin 1s steps(1) infinite;\n",
              "  }\n",
              "\n",
              "  @keyframes spin {\n",
              "    0% {\n",
              "      border-color: transparent;\n",
              "      border-bottom-color: var(--fill-color);\n",
              "      border-left-color: var(--fill-color);\n",
              "    }\n",
              "    20% {\n",
              "      border-color: transparent;\n",
              "      border-left-color: var(--fill-color);\n",
              "      border-top-color: var(--fill-color);\n",
              "    }\n",
              "    30% {\n",
              "      border-color: transparent;\n",
              "      border-left-color: var(--fill-color);\n",
              "      border-top-color: var(--fill-color);\n",
              "      border-right-color: var(--fill-color);\n",
              "    }\n",
              "    40% {\n",
              "      border-color: transparent;\n",
              "      border-right-color: var(--fill-color);\n",
              "      border-top-color: var(--fill-color);\n",
              "    }\n",
              "    60% {\n",
              "      border-color: transparent;\n",
              "      border-right-color: var(--fill-color);\n",
              "    }\n",
              "    80% {\n",
              "      border-color: transparent;\n",
              "      border-right-color: var(--fill-color);\n",
              "      border-bottom-color: var(--fill-color);\n",
              "    }\n",
              "    90% {\n",
              "      border-color: transparent;\n",
              "      border-bottom-color: var(--fill-color);\n",
              "    }\n",
              "  }\n",
              "</style>\n",
              "\n",
              "  <script>\n",
              "    async function quickchart(key) {\n",
              "      const quickchartButtonEl =\n",
              "        document.querySelector('#' + key + ' button');\n",
              "      quickchartButtonEl.disabled = true;  // To prevent multiple clicks.\n",
              "      quickchartButtonEl.classList.add('colab-df-spinner');\n",
              "      try {\n",
              "        const charts = await google.colab.kernel.invokeFunction(\n",
              "            'suggestCharts', [key], {});\n",
              "      } catch (error) {\n",
              "        console.error('Error during call to suggestCharts:', error);\n",
              "      }\n",
              "      quickchartButtonEl.classList.remove('colab-df-spinner');\n",
              "      quickchartButtonEl.classList.add('colab-df-quickchart-complete');\n",
              "    }\n",
              "    (() => {\n",
              "      let quickchartButtonEl =\n",
              "        document.querySelector('#df-57e687de-ccbf-4d53-a180-1f6d508ba8c6 button');\n",
              "      quickchartButtonEl.style.display =\n",
              "        google.colab.kernel.accessAllowed ? 'block' : 'none';\n",
              "    })();\n",
              "  </script>\n",
              "</div>\n",
              "\n",
              "    </div>\n",
              "  </div>\n"
            ],
            "application/vnd.google.colaboratory.intrinsic+json": {
              "type": "dataframe",
              "summary": "{\n  \"name\": \"pd\",\n  \"rows\": 5,\n  \"fields\": [\n    {\n      \"column\": 0,\n      \"properties\": {\n        \"dtype\": \"number\",\n        \"std\": 0.0017888543819998318,\n        \"min\": 0.01,\n        \"max\": 0.014,\n        \"num_unique_values\": 2,\n        \"samples\": [\n          0.01,\n          0.014\n        ],\n        \"semantic_type\": \"\",\n        \"description\": \"\"\n      }\n    },\n    {\n      \"column\": 1,\n      \"properties\": {\n        \"dtype\": \"number\",\n        \"std\": 0.02576819745345025,\n        \"min\": 0.05,\n        \"max\": 0.109,\n        \"num_unique_values\": 4,\n        \"samples\": [\n          0.105,\n          0.05\n        ],\n        \"semantic_type\": \"\",\n        \"description\": \"\"\n      }\n    },\n    {\n      \"column\": 2,\n      \"properties\": {\n        \"dtype\": \"number\",\n        \"std\": 0.32898966549118225,\n        \"min\": 0.224,\n        \"max\": 0.991,\n        \"num_unique_values\": 5,\n        \"samples\": [\n          0.884,\n          0.962\n        ],\n        \"semantic_type\": \"\",\n        \"description\": \"\"\n      }\n    },\n    {\n      \"column\": 3,\n      \"properties\": {\n        \"dtype\": \"number\",\n        \"std\": 0.3293437414009867,\n        \"min\": 0.224,\n        \"max\": 0.991,\n        \"num_unique_values\": 5,\n        \"samples\": [\n          0.884,\n          0.965\n        ],\n        \"semantic_type\": \"\",\n        \"description\": \"\"\n      }\n    }\n  ]\n}"
            }
          },
          "metadata": {},
          "execution_count": 36
        }
      ]
    },
    {
      "cell_type": "code",
      "source": [],
      "metadata": {
        "id": "TuFDuLQgqQch"
      },
      "execution_count": null,
      "outputs": []
    }
  ]
}